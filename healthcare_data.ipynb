{
 "cells": [
  {
   "cell_type": "code",
   "execution_count": 1,
   "metadata": {},
   "outputs": [],
   "source": [
    "import pandas as pd\n",
    "#print(data_2014[data_2014['expend'] > 8000])"
   ]
  },
  {
   "cell_type": "markdown",
   "metadata": {},
   "source": [
    "### 2014"
   ]
  },
  {
   "cell_type": "code",
   "execution_count": 2,
   "metadata": {},
   "outputs": [],
   "source": [
    "data_2014 = pd.read_csv('healthcare/healthcare_2014.csv')\n",
    "data_2014.rename(columns={' expenditure':'expend'}, inplace=True)\n",
    "data_2014.expend = [x.strip('$') for x in data_2014.expend]\n",
    "data_2014['expend'] = data_2014['expend'].astype(int)\n",
    "data_2014.columns = ['state', '2014']"
   ]
  },
  {
   "cell_type": "markdown",
   "metadata": {},
   "source": [
    "### 2013"
   ]
  },
  {
   "cell_type": "code",
   "execution_count": 3,
   "metadata": {},
   "outputs": [],
   "source": [
    "data_2013 = pd.read_csv('healthcare/healthcare_2013.csv')\n",
    "data_2013.rename(columns={' expenditure':'expend'}, inplace=True)\n",
    "data_2013.expend = [x.strip('$') for x in data_2013.expend]\n",
    "data_2013['expend'] = data_2013['expend'].astype(int)\n",
    "data_2013.columns = ['state', '2013']"
   ]
  },
  {
   "cell_type": "markdown",
   "metadata": {},
   "source": [
    "### 2012"
   ]
  },
  {
   "cell_type": "code",
   "execution_count": 4,
   "metadata": {},
   "outputs": [],
   "source": [
    "data_2012 = pd.read_csv('healthcare/healthcare_2012.csv')\n",
    "data_2012.rename(columns={' expenditure':'expend'}, inplace=True)\n",
    "data_2012.expend = [x.strip('$') for x in data_2012.expend]\n",
    "data_2012['expend'] = data_2012['expend'].astype(int)\n",
    "data_2012.columns = ['state', '2012']"
   ]
  },
  {
   "cell_type": "markdown",
   "metadata": {},
   "source": [
    "### 2011"
   ]
  },
  {
   "cell_type": "code",
   "execution_count": 5,
   "metadata": {},
   "outputs": [],
   "source": [
    "data_2011 = pd.read_csv('healthcare/healthcare_2011.csv')\n",
    "data_2011.rename(columns={' expenditure':'expend'}, inplace=True)\n",
    "data_2011.expend = [x.strip('$') for x in data_2011.expend]\n",
    "data_2011['expend'] = data_2011['expend'].astype(int)\n",
    "data_2011.columns = ['state', '2011']"
   ]
  },
  {
   "cell_type": "markdown",
   "metadata": {},
   "source": [
    "### 2010"
   ]
  },
  {
   "cell_type": "code",
   "execution_count": 6,
   "metadata": {},
   "outputs": [],
   "source": [
    "data_2010 = pd.read_csv('healthcare/healthcare_2010.csv')\n",
    "data_2010.rename(columns={' expenditure':'expend'}, inplace=True)\n",
    "data_2010.expend = [x.strip('$') for x in data_2010.expend]\n",
    "data_2010['expend'] = data_2010['expend'].astype(int)\n",
    "data_2010.columns = ['state', '2010']"
   ]
  },
  {
   "cell_type": "markdown",
   "metadata": {},
   "source": [
    "### 2009"
   ]
  },
  {
   "cell_type": "code",
   "execution_count": 7,
   "metadata": {},
   "outputs": [],
   "source": [
    "data_2009 = pd.read_csv('healthcare/healthcare_2009.csv')\n",
    "data_2009.rename(columns={' expenditure':'expend'}, inplace=True)\n",
    "data_2009.expend = [x.strip('$') for x in data_2009.expend]\n",
    "data_2009['expend'] = data_2009['expend'].astype(int)\n",
    "data_2009.columns = ['state', '2009']"
   ]
  },
  {
   "cell_type": "markdown",
   "metadata": {},
   "source": [
    "### 2008"
   ]
  },
  {
   "cell_type": "code",
   "execution_count": 8,
   "metadata": {},
   "outputs": [],
   "source": [
    "data_2008 = pd.read_csv('healthcare/healthcare_2008.csv')\n",
    "data_2008.rename(columns={' expenditure':'expend'}, inplace=True)\n",
    "data_2008.expend = [x.strip('$') for x in data_2008.expend]\n",
    "data_2008['expend'] = data_2008['expend'].astype(int)\n",
    "data_2008.columns = ['state', '2008']"
   ]
  },
  {
   "cell_type": "markdown",
   "metadata": {},
   "source": [
    "### 2007"
   ]
  },
  {
   "cell_type": "code",
   "execution_count": 9,
   "metadata": {},
   "outputs": [],
   "source": [
    "data_2007 = pd.read_csv('healthcare/healthcare_2007.csv')\n",
    "data_2007.rename(columns={' expenditure':'expend'}, inplace=True)\n",
    "data_2007.expend = [x.strip('$') for x in data_2007.expend]\n",
    "data_2007['expend'] = data_2007['expend'].astype(int)\n",
    "data_2007.columns = ['state', '2007']"
   ]
  },
  {
   "cell_type": "markdown",
   "metadata": {},
   "source": [
    "### 2006"
   ]
  },
  {
   "cell_type": "code",
   "execution_count": 10,
   "metadata": {},
   "outputs": [],
   "source": [
    "data_2006 = pd.read_csv('healthcare/healthcare_2006.csv')\n",
    "data_2006.rename(columns={' expenditure':'expend'}, inplace=True)\n",
    "data_2006.expend = [x.strip('$') for x in data_2006.expend]\n",
    "data_2006['expend'] = data_2006['expend'].astype(int)\n",
    "data_2006.columns = ['state', '2006']"
   ]
  },
  {
   "cell_type": "markdown",
   "metadata": {},
   "source": [
    "### 2005"
   ]
  },
  {
   "cell_type": "code",
   "execution_count": 11,
   "metadata": {},
   "outputs": [],
   "source": [
    "data_2005 = pd.read_csv('healthcare/healthcare_2005.csv')\n",
    "data_2005.rename(columns={' expenditure':'expend'}, inplace=True)\n",
    "data_2005.expend = [x.strip('$') for x in data_2005.expend]\n",
    "data_2005['expend'] = data_2005['expend'].astype(int)\n",
    "data_2005.columns = ['state', '2005']"
   ]
  },
  {
   "cell_type": "markdown",
   "metadata": {},
   "source": [
    "### 2004"
   ]
  },
  {
   "cell_type": "code",
   "execution_count": 12,
   "metadata": {},
   "outputs": [],
   "source": [
    "data_2004 = pd.read_csv('healthcare/healthcare_2004.csv')\n",
    "data_2004.rename(columns={' expenditure':'expend'}, inplace=True)\n",
    "data_2004.expend = [x.strip('$') for x in data_2004.expend]\n",
    "data_2004['expend'] = data_2004['expend'].astype(int)\n",
    "data_2004.columns = ['state', '2004']"
   ]
  },
  {
   "cell_type": "markdown",
   "metadata": {},
   "source": [
    "### 2003"
   ]
  },
  {
   "cell_type": "code",
   "execution_count": 13,
   "metadata": {},
   "outputs": [],
   "source": [
    "data_2003 = pd.read_csv('healthcare/healthcare_2003.csv')\n",
    "data_2003.rename(columns={' expenditure':'expend'}, inplace=True)\n",
    "data_2003.expend = [x.strip('$') for x in data_2003.expend]\n",
    "data_2003['expend'] = data_2003['expend'].astype(int)\n",
    "data_2003.columns = ['state', '2003']"
   ]
  },
  {
   "cell_type": "markdown",
   "metadata": {},
   "source": [
    "### 2002"
   ]
  },
  {
   "cell_type": "code",
   "execution_count": 14,
   "metadata": {},
   "outputs": [],
   "source": [
    "data_2002 = pd.read_csv('healthcare/healthcare_2002.csv')\n",
    "data_2002.rename(columns={' expenditure':'expend'}, inplace=True)\n",
    "data_2002.expend = [x.strip('$') for x in data_2002.expend]\n",
    "data_2002['expend'] = data_2002['expend'].astype(int)\n",
    "data_2002.columns = ['state', '2002']"
   ]
  },
  {
   "cell_type": "markdown",
   "metadata": {},
   "source": [
    "### 2001"
   ]
  },
  {
   "cell_type": "code",
   "execution_count": 15,
   "metadata": {},
   "outputs": [],
   "source": [
    "data_2001 = pd.read_csv('healthcare/healthcare_2001.csv')\n",
    "data_2001.rename(columns={' expenditure':'expend'}, inplace=True)\n",
    "data_2001.expend = [x.strip('$') for x in data_2001.expend]\n",
    "data_2001['expend'] = data_2001['expend'].astype(int)\n",
    "data_2001.columns = ['state', '2001']"
   ]
  },
  {
   "cell_type": "markdown",
   "metadata": {},
   "source": [
    "### 2000"
   ]
  },
  {
   "cell_type": "code",
   "execution_count": 16,
   "metadata": {},
   "outputs": [
    {
     "ename": "AttributeError",
     "evalue": "'int' object has no attribute 'strip'",
     "output_type": "error",
     "traceback": [
      "\u001b[0;31m---------------------------------------------------------------------------\u001b[0m",
      "\u001b[0;31mAttributeError\u001b[0m                            Traceback (most recent call last)",
      "\u001b[0;32m<ipython-input-16-2bbba14d64e8>\u001b[0m in \u001b[0;36m<module>\u001b[0;34m\u001b[0m\n\u001b[1;32m      1\u001b[0m \u001b[0mdata_2000\u001b[0m \u001b[0;34m=\u001b[0m \u001b[0mpd\u001b[0m\u001b[0;34m.\u001b[0m\u001b[0mread_csv\u001b[0m\u001b[0;34m(\u001b[0m\u001b[0;34m'healthcare/healthcare_2000.csv'\u001b[0m\u001b[0;34m)\u001b[0m\u001b[0;34m\u001b[0m\u001b[0;34m\u001b[0m\u001b[0m\n\u001b[1;32m      2\u001b[0m \u001b[0mdata_2000\u001b[0m\u001b[0;34m.\u001b[0m\u001b[0mrename\u001b[0m\u001b[0;34m(\u001b[0m\u001b[0mcolumns\u001b[0m\u001b[0;34m=\u001b[0m\u001b[0;34m{\u001b[0m\u001b[0;34m' expenditure'\u001b[0m\u001b[0;34m:\u001b[0m\u001b[0;34m'expend'\u001b[0m\u001b[0;34m}\u001b[0m\u001b[0;34m,\u001b[0m \u001b[0minplace\u001b[0m\u001b[0;34m=\u001b[0m\u001b[0;32mTrue\u001b[0m\u001b[0;34m)\u001b[0m\u001b[0;34m\u001b[0m\u001b[0;34m\u001b[0m\u001b[0m\n\u001b[0;32m----> 3\u001b[0;31m \u001b[0mdata_2000\u001b[0m\u001b[0;34m.\u001b[0m\u001b[0mexpend\u001b[0m \u001b[0;34m=\u001b[0m \u001b[0;34m[\u001b[0m\u001b[0mx\u001b[0m\u001b[0;34m.\u001b[0m\u001b[0mstrip\u001b[0m\u001b[0;34m(\u001b[0m\u001b[0;34m'$'\u001b[0m\u001b[0;34m)\u001b[0m \u001b[0;32mfor\u001b[0m \u001b[0mx\u001b[0m \u001b[0;32min\u001b[0m \u001b[0mdata_2000\u001b[0m\u001b[0;34m.\u001b[0m\u001b[0mexpend\u001b[0m\u001b[0;34m]\u001b[0m\u001b[0;34m\u001b[0m\u001b[0;34m\u001b[0m\u001b[0m\n\u001b[0m\u001b[1;32m      4\u001b[0m \u001b[0mdata_2000\u001b[0m\u001b[0;34m[\u001b[0m\u001b[0;34m'expend'\u001b[0m\u001b[0;34m]\u001b[0m \u001b[0;34m=\u001b[0m \u001b[0mdata_2000\u001b[0m\u001b[0;34m[\u001b[0m\u001b[0;34m'expend'\u001b[0m\u001b[0;34m]\u001b[0m\u001b[0;34m.\u001b[0m\u001b[0mastype\u001b[0m\u001b[0;34m(\u001b[0m\u001b[0mint\u001b[0m\u001b[0;34m)\u001b[0m\u001b[0;34m\u001b[0m\u001b[0;34m\u001b[0m\u001b[0m\n\u001b[1;32m      5\u001b[0m \u001b[0mdata_2000\u001b[0m\u001b[0;34m.\u001b[0m\u001b[0mcolumns\u001b[0m \u001b[0;34m=\u001b[0m \u001b[0;34m[\u001b[0m\u001b[0;34m'state'\u001b[0m\u001b[0;34m,\u001b[0m \u001b[0;34m'2000'\u001b[0m\u001b[0;34m]\u001b[0m\u001b[0;34m\u001b[0m\u001b[0;34m\u001b[0m\u001b[0m\n",
      "\u001b[0;32m<ipython-input-16-2bbba14d64e8>\u001b[0m in \u001b[0;36m<listcomp>\u001b[0;34m(.0)\u001b[0m\n\u001b[1;32m      1\u001b[0m \u001b[0mdata_2000\u001b[0m \u001b[0;34m=\u001b[0m \u001b[0mpd\u001b[0m\u001b[0;34m.\u001b[0m\u001b[0mread_csv\u001b[0m\u001b[0;34m(\u001b[0m\u001b[0;34m'healthcare/healthcare_2000.csv'\u001b[0m\u001b[0;34m)\u001b[0m\u001b[0;34m\u001b[0m\u001b[0;34m\u001b[0m\u001b[0m\n\u001b[1;32m      2\u001b[0m \u001b[0mdata_2000\u001b[0m\u001b[0;34m.\u001b[0m\u001b[0mrename\u001b[0m\u001b[0;34m(\u001b[0m\u001b[0mcolumns\u001b[0m\u001b[0;34m=\u001b[0m\u001b[0;34m{\u001b[0m\u001b[0;34m' expenditure'\u001b[0m\u001b[0;34m:\u001b[0m\u001b[0;34m'expend'\u001b[0m\u001b[0;34m}\u001b[0m\u001b[0;34m,\u001b[0m \u001b[0minplace\u001b[0m\u001b[0;34m=\u001b[0m\u001b[0;32mTrue\u001b[0m\u001b[0;34m)\u001b[0m\u001b[0;34m\u001b[0m\u001b[0;34m\u001b[0m\u001b[0m\n\u001b[0;32m----> 3\u001b[0;31m \u001b[0mdata_2000\u001b[0m\u001b[0;34m.\u001b[0m\u001b[0mexpend\u001b[0m \u001b[0;34m=\u001b[0m \u001b[0;34m[\u001b[0m\u001b[0mx\u001b[0m\u001b[0;34m.\u001b[0m\u001b[0mstrip\u001b[0m\u001b[0;34m(\u001b[0m\u001b[0;34m'$'\u001b[0m\u001b[0;34m)\u001b[0m \u001b[0;32mfor\u001b[0m \u001b[0mx\u001b[0m \u001b[0;32min\u001b[0m \u001b[0mdata_2000\u001b[0m\u001b[0;34m.\u001b[0m\u001b[0mexpend\u001b[0m\u001b[0;34m]\u001b[0m\u001b[0;34m\u001b[0m\u001b[0;34m\u001b[0m\u001b[0m\n\u001b[0m\u001b[1;32m      4\u001b[0m \u001b[0mdata_2000\u001b[0m\u001b[0;34m[\u001b[0m\u001b[0;34m'expend'\u001b[0m\u001b[0;34m]\u001b[0m \u001b[0;34m=\u001b[0m \u001b[0mdata_2000\u001b[0m\u001b[0;34m[\u001b[0m\u001b[0;34m'expend'\u001b[0m\u001b[0;34m]\u001b[0m\u001b[0;34m.\u001b[0m\u001b[0mastype\u001b[0m\u001b[0;34m(\u001b[0m\u001b[0mint\u001b[0m\u001b[0;34m)\u001b[0m\u001b[0;34m\u001b[0m\u001b[0;34m\u001b[0m\u001b[0m\n\u001b[1;32m      5\u001b[0m \u001b[0mdata_2000\u001b[0m\u001b[0;34m.\u001b[0m\u001b[0mcolumns\u001b[0m \u001b[0;34m=\u001b[0m \u001b[0;34m[\u001b[0m\u001b[0;34m'state'\u001b[0m\u001b[0;34m,\u001b[0m \u001b[0;34m'2000'\u001b[0m\u001b[0;34m]\u001b[0m\u001b[0;34m\u001b[0m\u001b[0;34m\u001b[0m\u001b[0m\n",
      "\u001b[0;31mAttributeError\u001b[0m: 'int' object has no attribute 'strip'"
     ]
    }
   ],
   "source": [
    "data_2000 = pd.read_csv('healthcare/healthcare_2000.csv')\n",
    "data_2000.rename(columns={' expenditure':'expend'}, inplace=True)\n",
    "data_2000.expend = [x.strip('$') for x in data_2000.expend]\n",
    "data_2000['expend'] = data_2000['expend'].astype(int)\n",
    "data_2000.columns = ['state', '2000']"
   ]
  },
  {
   "cell_type": "markdown",
   "metadata": {},
   "source": [
    "### 1999"
   ]
  },
  {
   "cell_type": "code",
   "execution_count": null,
   "metadata": {},
   "outputs": [],
   "source": [
    "data_1999 = pd.read_csv('healthcare/healthcare_1999.csv')\n",
    "data_1999.rename(columns={' expenditure':'expend'}, inplace=True)\n",
    "data_1999.expend = [x.strip('$') for x in data_1999.expend]\n",
    "data_1999['expend'] = data_1999['expend'].astype(int)\n",
    "data_1999.columns = ['state', '1999']"
   ]
  },
  {
   "cell_type": "markdown",
   "metadata": {},
   "source": [
    "### 1998"
   ]
  },
  {
   "cell_type": "code",
   "execution_count": null,
   "metadata": {},
   "outputs": [],
   "source": [
    "data_1998 = pd.read_csv('healthcare/healthcare_1998.csv')\n",
    "data_1998.rename(columns={' expenditure':'expend'}, inplace=True)\n",
    "data_1998.expend = [x.strip('$') for x in data_1998.expend]\n",
    "data_1998['expend'] = data_1998['expend'].astype(int)\n",
    "data_1998.columns = ['state', '1998']"
   ]
  },
  {
   "cell_type": "markdown",
   "metadata": {},
   "source": [
    "### 1997"
   ]
  },
  {
   "cell_type": "code",
   "execution_count": null,
   "metadata": {},
   "outputs": [],
   "source": [
    "data_1997 = pd.read_csv('healthcare/healthcare_1997.csv')\n",
    "data_1997.rename(columns={' expenditure':'expend'}, inplace=True)\n",
    "data_1997.expend = [x.strip('$') for x in data_1997.expend]\n",
    "data_1997['expend'] = data_1997['expend'].astype(int)\n",
    "data_1997.columns = ['state', '1997']"
   ]
  },
  {
   "cell_type": "markdown",
   "metadata": {},
   "source": [
    "### 1996"
   ]
  },
  {
   "cell_type": "code",
   "execution_count": null,
   "metadata": {},
   "outputs": [],
   "source": [
    "data_1996 = pd.read_csv('healthcare/healthcare_1996.csv')\n",
    "data_1996.rename(columns={' expenditure':'expend'}, inplace=True)\n",
    "data_1996.expend = [x.strip('$') for x in data_1996.expend]\n",
    "data_1996['expend'] = data_1996['expend'].astype(int)\n",
    "data_1996.columns = ['state', '1996']"
   ]
  },
  {
   "cell_type": "markdown",
   "metadata": {},
   "source": [
    "### 1995"
   ]
  },
  {
   "cell_type": "code",
   "execution_count": null,
   "metadata": {},
   "outputs": [],
   "source": [
    "data_1995 = pd.read_csv('healthcare/healthcare_1995.csv')\n",
    "data_1995.rename(columns={' expenditure':'expend'}, inplace=True)\n",
    "data_1995.expend = [x.strip('$') for x in data_1995.expend]\n",
    "data_1995['expend'] = data_1995['expend'].astype(int)\n",
    "data_1995.columns = ['state', '1995']"
   ]
  },
  {
   "cell_type": "markdown",
   "metadata": {},
   "source": [
    "### 1994"
   ]
  },
  {
   "cell_type": "code",
   "execution_count": null,
   "metadata": {},
   "outputs": [],
   "source": [
    "data_1994 = pd.read_csv('healthcare/healthcare_1994.csv')\n",
    "data_1994.rename(columns={' expenditure':'expend'}, inplace=True)\n",
    "data_1994.expend = [x.strip('$') for x in data_1994.expend]\n",
    "data_1994['expend'] = data_1994['expend'].astype(int)\n",
    "data_1994.columns = ['state', '1994']"
   ]
  },
  {
   "cell_type": "markdown",
   "metadata": {},
   "source": [
    "### 1993"
   ]
  },
  {
   "cell_type": "code",
   "execution_count": null,
   "metadata": {},
   "outputs": [],
   "source": [
    "data_1993 = pd.read_csv('healthcare/healthcare_1993.csv')\n",
    "data_1993.rename(columns={' expenditure':'expend'}, inplace=True)\n",
    "data_1993.expend = [x.strip('$') for x in data_1993.expend]\n",
    "data_1993['expend'] = data_1993['expend'].astype(int)\n",
    "data_1993.columns = ['state', '1993']"
   ]
  },
  {
   "cell_type": "markdown",
   "metadata": {},
   "source": [
    "### 1992"
   ]
  },
  {
   "cell_type": "code",
   "execution_count": null,
   "metadata": {},
   "outputs": [],
   "source": [
    "data_1992 = pd.read_csv('healthcare/healthcare_1992.csv')\n",
    "data_1992.rename(columns={' expenditure':'expend'}, inplace=True)\n",
    "data_1992.expend = [x.strip('$') for x in data_1992.expend]\n",
    "data_1992['expend'] = data_1992['expend'].astype(int)\n",
    "data_1992.columns = ['state', '1992']"
   ]
  },
  {
   "cell_type": "markdown",
   "metadata": {},
   "source": [
    "### 1991"
   ]
  },
  {
   "cell_type": "code",
   "execution_count": null,
   "metadata": {},
   "outputs": [],
   "source": [
    "data_1991 = pd.read_csv('healthcare/healthcare_1991.csv')\n",
    "data_1991.rename(columns={' expenditure':'expend'}, inplace=True)\n",
    "data_1991.columns = ['state', '1991']"
   ]
  },
  {
   "cell_type": "markdown",
   "metadata": {},
   "source": [
    "### Merge all data into one"
   ]
  },
  {
   "cell_type": "code",
   "execution_count": null,
   "metadata": {},
   "outputs": [],
   "source": [
    "df = data_2014\n",
    "df = pd.merge(df, data_2013, on = 'state', how = 'left')\n",
    "df = pd.merge(df, data_2012, on = 'state', how = 'left')\n",
    "df = pd.merge(df, data_2011, on = 'state', how = 'left')\n",
    "df = pd.merge(df, data_2010, on = 'state', how = 'left')\n",
    "df = pd.merge(df, data_2009, on = 'state', how = 'left')\n",
    "df = pd.merge(df, data_2008, on = 'state', how = 'left')\n",
    "df = pd.merge(df, data_2007, on = 'state', how = 'left')\n",
    "df = pd.merge(df, data_2006, on = 'state', how = 'left')\n",
    "df = pd.merge(df, data_2005, on = 'state', how = 'left')\n",
    "df = pd.merge(df, data_2004, on = 'state', how = 'left')\n",
    "df = pd.merge(df, data_2003, on = 'state', how = 'left')\n",
    "df = pd.merge(df, data_2002, on = 'state', how = 'left')\n",
    "df = pd.merge(df, data_2001, on = 'state', how = 'left')\n",
    "df = pd.merge(df, data_2000, on = 'state', how = 'left')\n",
    "df = pd.merge(df, data_1999, on = 'state', how = 'left')\n",
    "df = pd.merge(df, data_1998, on = 'state', how = 'left')\n",
    "df = pd.merge(df, data_1997, on = 'state', how = 'left')\n",
    "df = pd.merge(df, data_1996, on = 'state', how = 'left')\n",
    "df = pd.merge(df, data_1995, on = 'state', how = 'left')\n",
    "df = pd.merge(df, data_1994, on = 'state', how = 'left')\n",
    "df = pd.merge(df, data_1993, on = 'state', how = 'left')\n",
    "df = pd.merge(df, data_1992, on = 'state', how = 'left')\n",
    "df = pd.merge(df, data_1991, on = 'state', how = 'left')\n",
    "df = df.set_index('state')"
   ]
  },
  {
   "cell_type": "markdown",
   "metadata": {},
   "source": [
    "### Exporting into one file\n",
    "All the data that is stored in the dataframe will be stored in 'healthcare_data.csv' in\n",
    "healthcare folder. "
   ]
  },
  {
   "cell_type": "code",
   "execution_count": null,
   "metadata": {},
   "outputs": [],
   "source": [
    "df.to_csv(r'/Users/gamja/Desktop/Projects/COGS108/group/Projects/healthcare/healthcare_in_one.csv')\n"
   ]
  }
 ],
 "metadata": {
  "kernelspec": {
   "display_name": "Python 3",
   "language": "python",
   "name": "python3"
  },
  "language_info": {
   "codemirror_mode": {
    "name": "ipython",
    "version": 3
   },
   "file_extension": ".py",
   "mimetype": "text/x-python",
   "name": "python",
   "nbconvert_exporter": "python",
   "pygments_lexer": "ipython3",
   "version": "3.7.1"
  }
 },
 "nbformat": 4,
 "nbformat_minor": 2
}
