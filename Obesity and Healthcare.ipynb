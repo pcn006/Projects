{
 "cells": [
  {
   "cell_type": "markdown",
   "metadata": {},
   "source": [
    "## Load data and trim"
   ]
  },
  {
   "cell_type": "code",
   "execution_count": 1,
   "metadata": {},
   "outputs": [],
   "source": [
    "import pandas as pd\n",
    "\n",
    "healthcare = pd.read_csv('healthcare/healthcare_in_one.csv')\n",
    "obesity = pd.read_csv('obesity_rate.csv')\n",
    "\n",
    "healthcare = healthcare.drop(['2002','2001','1999','1998','1997','1996','1994','1993','1992','1991'], axis = 1)\n",
    "obesity = obesity.drop(['2017','2016','2015','1990'], axis = 1)\n",
    "\n",
    "obesity.rename(columns={'States': 'state'}, inplace = True)\n"
   ]
  },
  {
   "cell_type": "markdown",
   "metadata": {},
   "source": [
    "## Merge data"
   ]
  },
  {
   "cell_type": "markdown",
   "metadata": {},
   "source": [
    "##### 2014"
   ]
  },
  {
   "cell_type": "code",
   "execution_count": 2,
   "metadata": {},
   "outputs": [],
   "source": [
    "hc2014 = healthcare[['state', '2014']]\n",
    "ob2014 = obesity[['state', '2014']]\n",
    "\n",
    "temp = pd.merge(hc2014, ob2014, on = 'state')\n",
    "temp.rename(columns = {'2014_x': 'healthcare', '2014_y': 'obesity'}, inplace = True)\n",
    "df = temp\n"
   ]
  },
  {
   "cell_type": "markdown",
   "metadata": {},
   "source": [
    "##### 2013"
   ]
  },
  {
   "cell_type": "code",
   "execution_count": 3,
   "metadata": {},
   "outputs": [],
   "source": [
    "hc2013 = healthcare[['state', '2013']]\n",
    "ob2013 = obesity[['state', '2013']]\n",
    "\n",
    "temp = pd.merge(hc2013, ob2013, on = 'state')\n",
    "temp.rename(columns = {'2013_x': 'healthcare', '2013_y': 'obesity'}, inplace = True)\n",
    "df = df.append(temp, ignore_index = True)\n"
   ]
  },
  {
   "cell_type": "markdown",
   "metadata": {},
   "source": [
    "##### 2012"
   ]
  },
  {
   "cell_type": "code",
   "execution_count": 4,
   "metadata": {},
   "outputs": [],
   "source": [
    "hc2012 = healthcare[['state', '2012']]\n",
    "ob2012 = obesity[['state', '2012']]\n",
    "\n",
    "temp = pd.merge(hc2012, ob2012, on = 'state')\n",
    "temp.rename(columns = {'2012_x': 'healthcare', '2012_y': 'obesity'}, inplace = True)\n",
    "df = df.append(temp, ignore_index = True)\n"
   ]
  },
  {
   "cell_type": "markdown",
   "metadata": {},
   "source": [
    "##### 2011"
   ]
  },
  {
   "cell_type": "code",
   "execution_count": 5,
   "metadata": {},
   "outputs": [],
   "source": [
    "hc2011 = healthcare[['state', '2011']]\n",
    "ob2011 = obesity[['state', '2011']]\n",
    "\n",
    "temp = pd.merge(hc2011, ob2011, on = 'state')\n",
    "temp.rename(columns = {'2011_x': 'healthcare', '2011_y': 'obesity'}, inplace = True)\n",
    "df = df.append(temp, ignore_index = True)\n"
   ]
  },
  {
   "cell_type": "markdown",
   "metadata": {},
   "source": [
    "##### 2010"
   ]
  },
  {
   "cell_type": "code",
   "execution_count": 6,
   "metadata": {},
   "outputs": [],
   "source": [
    "hc2010 = healthcare[['state', '2010']]\n",
    "ob2010 = obesity[['state', '2010']]\n",
    "\n",
    "temp = pd.merge(hc2010, ob2010, on = 'state')\n",
    "temp.rename(columns = {'2010_x': 'healthcare', '2010_y': 'obesity'}, inplace = True)\n",
    "df = df.append(temp, ignore_index = True)\n"
   ]
  },
  {
   "cell_type": "markdown",
   "metadata": {},
   "source": [
    "##### 2009"
   ]
  },
  {
   "cell_type": "code",
   "execution_count": 7,
   "metadata": {},
   "outputs": [],
   "source": [
    "hc2009 = healthcare[['state', '2009']]\n",
    "ob2009 = obesity[['state', '2009']]\n",
    "\n",
    "temp = pd.merge(hc2009, ob2009, on = 'state')\n",
    "temp.rename(columns = {'2009_x': 'healthcare', '2009_y': 'obesity'}, inplace = True)\n",
    "df = df.append(temp, ignore_index = True)\n"
   ]
  },
  {
   "cell_type": "markdown",
   "metadata": {},
   "source": [
    "##### 2008"
   ]
  },
  {
   "cell_type": "code",
   "execution_count": 8,
   "metadata": {},
   "outputs": [],
   "source": [
    "hc2008 = healthcare[['state', '2008']]\n",
    "ob2008 = obesity[['state', '2008']]\n",
    "\n",
    "temp = pd.merge(hc2008, ob2008, on = 'state')\n",
    "temp.rename(columns = {'2008_x': 'healthcare', '2008_y': 'obesity'}, inplace = True)\n",
    "df = df.append(temp, ignore_index = True)\n"
   ]
  },
  {
   "cell_type": "markdown",
   "metadata": {},
   "source": [
    "##### 2007"
   ]
  },
  {
   "cell_type": "code",
   "execution_count": 9,
   "metadata": {},
   "outputs": [],
   "source": [
    "hc2007 = healthcare[['state', '2007']]\n",
    "ob2007 = obesity[['state', '2007']]\n",
    "\n",
    "temp = pd.merge(hc2007, ob2007, on = 'state')\n",
    "temp.rename(columns = {'2007_x': 'healthcare', '2007_y': 'obesity'}, inplace = True)\n",
    "df = df.append(temp, ignore_index = True)\n"
   ]
  },
  {
   "cell_type": "markdown",
   "metadata": {},
   "source": [
    "##### 2006"
   ]
  },
  {
   "cell_type": "code",
   "execution_count": 10,
   "metadata": {},
   "outputs": [],
   "source": [
    "hc2006 = healthcare[['state', '2006']]\n",
    "ob2006 = obesity[['state', '2006']]\n",
    "\n",
    "temp = pd.merge(hc2006, ob2006, on = 'state')\n",
    "temp.rename(columns = {'2006_x': 'healthcare', '2006_y': 'obesity'}, inplace = True)\n",
    "df = df.append(temp, ignore_index = True)\n"
   ]
  },
  {
   "cell_type": "markdown",
   "metadata": {},
   "source": [
    "##### 2005"
   ]
  },
  {
   "cell_type": "code",
   "execution_count": 11,
   "metadata": {},
   "outputs": [],
   "source": [
    "hc2005 = healthcare[['state', '2005']]\n",
    "ob2005 = obesity[['state', '2005']]\n",
    "\n",
    "temp = pd.merge(hc2005, ob2005, on = 'state')\n",
    "temp.rename(columns = {'2005_x': 'healthcare', '2005_y': 'obesity'}, inplace = True)\n",
    "df = df.append(temp, ignore_index = True)\n"
   ]
  },
  {
   "cell_type": "markdown",
   "metadata": {},
   "source": [
    "##### 2004"
   ]
  },
  {
   "cell_type": "code",
   "execution_count": 12,
   "metadata": {},
   "outputs": [],
   "source": [
    "hc2004 = healthcare[['state', '2004']]\n",
    "ob2004 = obesity[['state', '2004']]\n",
    "\n",
    "temp = pd.merge(hc2004, ob2004, on = 'state')\n",
    "temp.rename(columns = {'2004_x': 'healthcare', '2004_y': 'obesity'}, inplace = True)\n",
    "df = df.append(temp, ignore_index = True)\n"
   ]
  },
  {
   "cell_type": "markdown",
   "metadata": {},
   "source": [
    "##### 2003"
   ]
  },
  {
   "cell_type": "code",
   "execution_count": 13,
   "metadata": {},
   "outputs": [],
   "source": [
    "hc2003 = healthcare[['state', '2003']]\n",
    "ob2003 = obesity[['state', '2003']]\n",
    "\n",
    "temp = pd.merge(hc2003, ob2003, on = 'state')\n",
    "temp.rename(columns = {'2003_x': 'healthcare', '2003_y': 'obesity'}, inplace = True)\n",
    "df = df.append(temp, ignore_index = True)\n"
   ]
  },
  {
   "cell_type": "markdown",
   "metadata": {},
   "source": [
    "##### 2000"
   ]
  },
  {
   "cell_type": "code",
   "execution_count": 14,
   "metadata": {},
   "outputs": [],
   "source": [
    "hc2000 = healthcare[['state', '2000']]\n",
    "ob2000 = obesity[['state', '2000']]\n",
    "\n",
    "temp = pd.merge(hc2000, ob2000, on = 'state')\n",
    "temp.rename(columns = {'2000_x': 'healthcare', '2000_y': 'obesity'}, inplace = True)\n",
    "df = df.append(temp, ignore_index = True)\n"
   ]
  },
  {
   "cell_type": "markdown",
   "metadata": {},
   "source": [
    "##### 1995"
   ]
  },
  {
   "cell_type": "code",
   "execution_count": 15,
   "metadata": {},
   "outputs": [],
   "source": [
    "hc1995 = healthcare[['state', '1995']]\n",
    "ob1995 = obesity[['state', '1995']]\n",
    "\n",
    "temp = pd.merge(hc1995, ob1995, on = 'state')\n",
    "temp.rename(columns = {'1995_x': 'healthcare', '1995_y': 'obesity'}, inplace = True)\n",
    "df = df.append(temp, ignore_index = True)\n"
   ]
  },
  {
   "cell_type": "markdown",
   "metadata": {},
   "source": [
    "## Check if there are errors in the data"
   ]
  },
  {
   "cell_type": "markdown",
   "metadata": {},
   "source": [
    "- df.isnull().values.any() \n",
    "\n",
    "needs to ouput \"False\" in order to comfirm that\n",
    "there are no null values in the dataframe"
   ]
  },
  {
   "cell_type": "code",
   "execution_count": 16,
   "metadata": {},
   "outputs": [
    {
     "data": {
      "text/plain": [
       "True"
      ]
     },
     "execution_count": 16,
     "metadata": {},
     "output_type": "execute_result"
    }
   ],
   "source": [
    "df.isnull().values.any()"
   ]
  },
  {
   "cell_type": "code",
   "execution_count": 17,
   "metadata": {},
   "outputs": [
    {
     "data": {
      "text/plain": [
       "(700, 3)"
      ]
     },
     "execution_count": 17,
     "metadata": {},
     "output_type": "execute_result"
    }
   ],
   "source": [
    "df.shape"
   ]
  },
  {
   "cell_type": "code",
   "execution_count": 18,
   "metadata": {},
   "outputs": [
    {
     "data": {
      "text/plain": [
       "(699, 3)"
      ]
     },
     "execution_count": 18,
     "metadata": {},
     "output_type": "execute_result"
    }
   ],
   "source": [
    "df = df.dropna()\n",
    "df.shape"
   ]
  },
  {
   "cell_type": "markdown",
   "metadata": {},
   "source": [
    "## Analyses"
   ]
  },
  {
   "cell_type": "code",
   "execution_count": 21,
   "metadata": {},
   "outputs": [
    {
     "data": {
      "text/html": [
       "<div>\n",
       "<style scoped>\n",
       "    .dataframe tbody tr th:only-of-type {\n",
       "        vertical-align: middle;\n",
       "    }\n",
       "\n",
       "    .dataframe tbody tr th {\n",
       "        vertical-align: top;\n",
       "    }\n",
       "\n",
       "    .dataframe thead th {\n",
       "        text-align: right;\n",
       "    }\n",
       "</style>\n",
       "<table border=\"1\" class=\"dataframe\">\n",
       "  <thead>\n",
       "    <tr style=\"text-align: right;\">\n",
       "      <th></th>\n",
       "      <th>healthcare</th>\n",
       "      <th>obesity</th>\n",
       "    </tr>\n",
       "  </thead>\n",
       "  <tbody>\n",
       "    <tr>\n",
       "      <th>count</th>\n",
       "      <td>699.000000</td>\n",
       "      <td>699.000000</td>\n",
       "    </tr>\n",
       "    <tr>\n",
       "      <th>mean</th>\n",
       "      <td>6409.148784</td>\n",
       "      <td>0.248491</td>\n",
       "    </tr>\n",
       "    <tr>\n",
       "      <th>std</th>\n",
       "      <td>1727.622834</td>\n",
       "      <td>0.050867</td>\n",
       "    </tr>\n",
       "    <tr>\n",
       "      <th>min</th>\n",
       "      <td>2334.000000</td>\n",
       "      <td>0.106000</td>\n",
       "    </tr>\n",
       "    <tr>\n",
       "      <th>25%</th>\n",
       "      <td>5319.000000</td>\n",
       "      <td>0.217000</td>\n",
       "    </tr>\n",
       "    <tr>\n",
       "      <th>50%</th>\n",
       "      <td>6452.000000</td>\n",
       "      <td>0.252000</td>\n",
       "    </tr>\n",
       "    <tr>\n",
       "      <th>75%</th>\n",
       "      <td>7515.000000</td>\n",
       "      <td>0.284000</td>\n",
       "    </tr>\n",
       "    <tr>\n",
       "      <th>max</th>\n",
       "      <td>11944.000000</td>\n",
       "      <td>0.381000</td>\n",
       "    </tr>\n",
       "  </tbody>\n",
       "</table>\n",
       "</div>"
      ],
      "text/plain": [
       "         healthcare     obesity\n",
       "count    699.000000  699.000000\n",
       "mean    6409.148784    0.248491\n",
       "std     1727.622834    0.050867\n",
       "min     2334.000000    0.106000\n",
       "25%     5319.000000    0.217000\n",
       "50%     6452.000000    0.252000\n",
       "75%     7515.000000    0.284000\n",
       "max    11944.000000    0.381000"
      ]
     },
     "execution_count": 21,
     "metadata": {},
     "output_type": "execute_result"
    }
   ],
   "source": [
    "# describe\n",
    "desc = df.describe()\n",
    "desc"
   ]
  },
  {
   "cell_type": "code",
   "execution_count": 22,
   "metadata": {},
   "outputs": [
    {
     "data": {
      "text/html": [
       "<div>\n",
       "<style scoped>\n",
       "    .dataframe tbody tr th:only-of-type {\n",
       "        vertical-align: middle;\n",
       "    }\n",
       "\n",
       "    .dataframe tbody tr th {\n",
       "        vertical-align: top;\n",
       "    }\n",
       "\n",
       "    .dataframe thead th {\n",
       "        text-align: right;\n",
       "    }\n",
       "</style>\n",
       "<table border=\"1\" class=\"dataframe\">\n",
       "  <thead>\n",
       "    <tr style=\"text-align: right;\">\n",
       "      <th></th>\n",
       "      <th>healthcare</th>\n",
       "      <th>obesity</th>\n",
       "    </tr>\n",
       "  </thead>\n",
       "  <tbody>\n",
       "    <tr>\n",
       "      <th>healthcare</th>\n",
       "      <td>1.000000</td>\n",
       "      <td>0.568327</td>\n",
       "    </tr>\n",
       "    <tr>\n",
       "      <th>obesity</th>\n",
       "      <td>0.568327</td>\n",
       "      <td>1.000000</td>\n",
       "    </tr>\n",
       "  </tbody>\n",
       "</table>\n",
       "</div>"
      ],
      "text/plain": [
       "            healthcare   obesity\n",
       "healthcare    1.000000  0.568327\n",
       "obesity       0.568327  1.000000"
      ]
     },
     "execution_count": 22,
     "metadata": {},
     "output_type": "execute_result"
    }
   ],
   "source": [
    "corrs = df.corr()\n",
    "corrs"
   ]
  },
  {
   "cell_type": "markdown",
   "metadata": {},
   "source": [
    "## Data visualization"
   ]
  },
  {
   "cell_type": "code",
   "execution_count": 19,
   "metadata": {},
   "outputs": [
    {
     "data": {
      "image/png": "[encoded data removed]",
      "text/plain": [
       "<Figure size 432x288 with 1 Axes>"
      ]
     },
     "metadata": {
      "needs_background": "light"
     },
     "output_type": "display_data"
    }
   ],
   "source": [
    "%matplotlib inline\n",
    "import matplotlib.pyplot as plt\n",
    "\n",
    "# healthcare\n",
    "plt.hist(df['healthcare'], bins = 100)\n",
    "plt.xlabel('($) healthcare')\n",
    "hc = plt.gcf()\n"
   ]
  },
  {
   "cell_type": "code",
   "execution_count": 20,
   "metadata": {},
   "outputs": [
    {
     "data": {
      "image/png": "[encoded data removed]",
      "text/plain": [
       "<Figure size 432x288 with 1 Axes>"
      ]
     },
     "metadata": {
      "needs_background": "light"
     },
     "output_type": "display_data"
    }
   ],
   "source": [
    "# obesity\n",
    "plt.hist(df['obesity'], bins = 50)\n",
    "plt.xlabel('obesity rate')\n",
    "ob = plt.gcf()\n"
   ]
  },
  {
   "cell_type": "code",
   "execution_count": 23,
   "metadata": {},
   "outputs": [
    {
     "data": {
      "text/plain": [
       "<matplotlib.collections.PathCollection at 0x12273cf60>"
      ]
     },
     "execution_count": 23,
     "metadata": {},
     "output_type": "execute_result"
    },
    {
     "data": {
      "image/png": "[encoded data removed]",
      "text/plain": [
       "<Figure size 432x288 with 1 Axes>"
      ]
     },
     "metadata": {
      "needs_background": "light"
     },
     "output_type": "display_data"
    }
   ],
   "source": [
    "a, b = np.polyfit(df['healthcare'], df['obesity'], 1)\n",
    "pred = np.add(np.multiply(np.arange(2000, 12000, 100), a), b)\n",
    "\n",
    "plt.scatter(df['healthcare'], df['obesity'], s = 25)\n",
    "plt.plot(np.arange(2000, 12000, 100), pred, '-r', linewidth = 3)\n",
    "plt.xlabel('healthcare')\n",
    "plt.ylabel('obesity')\n",
    "\n",
    "result = plt.gc"
   ]
  },
  {
   "cell_type": "code",
   "execution_count": 24,
   "metadata": {},
   "outputs": [
    {
     "name": "stdout",
     "output_type": "stream",
     "text": [
      "[[1.67335747e-05]]\n"
     ]
    }
   ],
   "source": [
    "from sklearn.linear_model import LinearRegression\n",
    "\n",
    "x = pd.DataFrame(df['healthcare'])\n",
    "y = pd.DataFrame(df['obesity'])\n",
    "\n",
    "model = LinearRegression()\n",
    "model.fit(x, y)\n",
    "\n",
    "print(model.coef_)"
   ]
  },
  {
   "cell_type": "code",
   "execution_count": null,
   "metadata": {},
   "outputs": [],
   "source": []
  }
 ],
 "metadata": {
  "kernelspec": {
   "display_name": "Python 3",
   "language": "python",
   "name": "python3"
  },
  "language_info": {
   "codemirror_mode": {
    "name": "ipython",
    "version": 3
   },
   "file_extension": ".py",
   "mimetype": "text/x-python",
   "name": "python",
   "nbconvert_exporter": "python",
   "pygments_lexer": "ipython3",
   "version": "3.7.1"
  }
 },
 "nbformat": 4,
 "nbformat_minor": 2
}
