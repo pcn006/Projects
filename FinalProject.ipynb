{
 "cells": [
  {
   "cell_type": "markdown",
   "metadata": {},
   "source": [
    "# COGS 108 - Final Project "
   ]
  },
  {
   "cell_type": "markdown",
   "metadata": {},
   "source": [
    "# Overview"
   ]
  },
  {
   "cell_type": "markdown",
   "metadata": {},
   "source": [
    "*Fill in your overview here*"
   ]
  },
  {
   "cell_type": "markdown",
   "metadata": {},
   "source": [
    "# Names\n",
    "\n",
    "- Min Liu\n",
    "- Yoo Jin Chung\n",
    "- Qin Li\n",
    "- Sam Smith\n",
    "- J. Cole"
   ]
  },
  {
   "cell_type": "markdown",
   "metadata": {},
   "source": [
    "## Group Members IDs\n",
    "\n",
    "- A92061065\n",
    "- A14692760\n",
    "- A13803098\n",
    "- A########"
   ]
  },
  {
   "cell_type": "markdown",
   "metadata": {},
   "source": [
    "# Research Question"
   ]
  },
  {
   "cell_type": "markdown",
   "metadata": {},
   "source": [
    "*Fill in your research question here*"
   ]
  },
  {
   "cell_type": "markdown",
   "metadata": {},
   "source": [
    "## Background and Prior Work"
   ]
  },
  {
   "cell_type": "markdown",
   "metadata": {},
   "source": [
    "*Fill in your background and prior work here* \n",
    "\n",
    "References (include links):\n",
    "- 1)\n",
    "- 2)"
   ]
  },
  {
   "cell_type": "markdown",
   "metadata": {},
   "source": [
    "# Hypothesis\n"
   ]
  },
  {
   "cell_type": "markdown",
   "metadata": {},
   "source": [
    "*Fill in your hypotheses here*"
   ]
  },
  {
   "cell_type": "markdown",
   "metadata": {},
   "source": [
    "# Dataset(s)"
   ]
  },
  {
   "cell_type": "markdown",
   "metadata": {},
   "source": [
    "*Fill in your dataset information here*\n",
    "\n",
    "(Copy this information for each dataset)\n",
    "- Dataset Name:\n",
    "- Link to the dataset:\n",
    "- Number of observations:\n",
    "\n",
    "1-2 sentences describing each dataset. \n",
    "\n",
    "If you plan to use multiple datasets, add 1-2 sentences about how you plan to combine these datasets."
   ]
  },
  {
   "cell_type": "markdown",
   "metadata": {},
   "source": [
    "# Setup"
   ]
  },
  {
   "cell_type": "code",
   "execution_count": 1,
   "metadata": {},
   "outputs": [],
   "source": [
    "## YOUR CODE HERE\n",
    "# Display plots directly in the notebook instead of in a new window\n",
    "%matplotlib inline\n",
    "\n",
    "# Import libraries\n",
    "import numpy as np\n",
    "import pandas as pd\n",
    "import matplotlib.pyplot as plt\n",
    "#import seaborn as sns\n"
   ]
  },
  {
   "cell_type": "markdown",
   "metadata": {},
   "source": [
    "# Data Cleaning"
   ]
  },
  {
   "cell_type": "markdown",
   "metadata": {},
   "source": [
    "Describe your data cleaning steps here."
   ]
  },
  {
   "cell_type": "code",
   "execution_count": 27,
   "metadata": {},
   "outputs": [],
   "source": [
    "## YOUR CODE HERE\n",
    "income_summary = pd.read_csv(\"./household_income/Summary_2017_1984.csv\", thousands=',')\n",
    "income_summary = income_summary.rename(index=str, columns={'State': 'state'})\n",
    "obesity_summary = pd.read_csv(\"./obesity_rate.csv\")\n",
    "obesity_summary = obesity_summary.rename(index=str, columns={'States': 'state'})\n",
    "del obesity_summary['Unnamed: 0']\n",
    "#health_summary = pd.read_csv(\"./healthcare/healthcare_final.csv\")\n",
    "health_2000 = pd.read_csv(\"./healthcare/healthcare_2000.csv\")\n",
    "health_2010 = pd.read_csv(\"./healthcare/healthcare_2010.csv\")\n",
    "health_1995 = pd.read_csv(\"./healthcare/healthcare_1995.csv\")"
   ]
  },
  {
   "cell_type": "code",
   "execution_count": 38,
   "metadata": {
    "scrolled": true
   },
   "outputs": [],
   "source": [
    "data_2000 = income_summary[['state', '2000']]\n",
    "data_2000 = data_2000.rename(index=str, columns={'2000':'income'})\n",
    "data_2000 = pd.merge(data_2000, obesity_summary[['state','2000']], on=('state'))\n",
    "data_2000 = data_2000.rename(index=str, columns={'2000':'obesity'})\n",
    "data_2000 = pd.merge(data_2000, health_2000[['state',' expenditure']], on=('state'))\n",
    "data_2000 = data_2000.rename(index=str, columns={' expenditure':'health_cost'})\n",
    "\n",
    "data_2010 = income_summary[['state', '2010']]\n",
    "data_2010 = data_2010.rename(index=str, columns={'2010':'income'})\n",
    "data_2010 = pd.merge(data_2010, obesity_summary[['state','2010']], on=('state'))\n",
    "data_2010 = data_2010.rename(index=str, columns={'2010':'obesity'})\n",
    "data_2010 = pd.merge(data_2010, health_2010[['state',' expenditure']], on=('state'))\n",
    "data_2010 = data_2010.rename(index=str, columns={' expenditure':'health_cost'})\n",
    "\n",
    "data_1995 = income_summary[['state', '1995']]\n",
    "data_1995 = data_1995.rename(index=str, columns={'1995':'income'})\n",
    "data_1995 = pd.merge(data_1995, obesity_summary[['state','1995']], on=('state'))\n",
    "data_1995 = data_1995.rename(index=str, columns={'1995':'obesity'})\n",
    "data_1995 = pd.merge(data_1995, health_2000[['state',' expenditure']], on=('state'))\n",
    "data_1995 = data_1995.rename(index=str, columns={' expenditure':'health_cost'})"
   ]
  },
  {
   "cell_type": "code",
   "execution_count": 42,
   "metadata": {},
   "outputs": [
    {
     "data": {
      "text/html": [
       "<div>\n",
       "<style scoped>\n",
       "    .dataframe tbody tr th:only-of-type {\n",
       "        vertical-align: middle;\n",
       "    }\n",
       "\n",
       "    .dataframe tbody tr th {\n",
       "        vertical-align: top;\n",
       "    }\n",
       "\n",
       "    .dataframe thead th {\n",
       "        text-align: right;\n",
       "    }\n",
       "</style>\n",
       "<table border=\"1\" class=\"dataframe\">\n",
       "  <thead>\n",
       "    <tr style=\"text-align: right;\">\n",
       "      <th></th>\n",
       "      <th>income</th>\n",
       "      <th>obesity</th>\n",
       "    </tr>\n",
       "  </thead>\n",
       "  <tbody>\n",
       "    <tr>\n",
       "      <th>income</th>\n",
       "      <td>1.000000</td>\n",
       "      <td>-0.731681</td>\n",
       "    </tr>\n",
       "    <tr>\n",
       "      <th>obesity</th>\n",
       "      <td>-0.731681</td>\n",
       "      <td>1.000000</td>\n",
       "    </tr>\n",
       "  </tbody>\n",
       "</table>\n",
       "</div>"
      ],
      "text/plain": [
       "           income   obesity\n",
       "income   1.000000 -0.731681\n",
       "obesity -0.731681  1.000000"
      ]
     },
     "execution_count": 42,
     "metadata": {},
     "output_type": "execute_result"
    }
   ],
   "source": [
    "data_1995.dropna()\n",
    "data_2000.dropna()\n",
    "data_2010.dropna()\n",
    "corr_1995 = data_1995.corr()\n",
    "corr_2000 = data_2000.corr()\n",
    "corr_2010 = data_2010.corr()\n",
    "corr_2010"
   ]
  },
  {
   "cell_type": "code",
   "execution_count": 40,
   "metadata": {
    "scrolled": false
   },
   "outputs": [
    {
     "data": {
      "text/plain": [
       "<matplotlib.collections.PathCollection at 0x17be5ab9748>"
      ]
     },
     "execution_count": 40,
     "metadata": {},
     "output_type": "execute_result"
    },
    {
     "data": {
      "image/png": "[encoded data removed]",
      "text/plain": [
       "<Figure size 432x288 with 1 Axes>"
      ]
     },
     "metadata": {
      "needs_background": "light"
     },
     "output_type": "display_data"
    }
   ],
   "source": [
    "plt.scatter(data_1995['income'], data_1995['obesity'])\n",
    "plt.scatter(data_2000['income'], data_2000['obesity'])\n",
    "plt.scatter(data_2010['income'], data_2010['obesity'])\n"
   ]
  },
  {
   "cell_type": "markdown",
   "metadata": {},
   "source": [
    "# Data Analysis & Results"
   ]
  },
  {
   "cell_type": "markdown",
   "metadata": {},
   "source": [
    "Include cells that describe the steps in your data analysis."
   ]
  },
  {
   "cell_type": "code",
   "execution_count": 5,
   "metadata": {},
   "outputs": [],
   "source": [
    "## YOUR CODE HERE\n",
    "## FEEL FREE TO ADD MULTIPLE CELLS PER SECTION"
   ]
  },
  {
   "cell_type": "markdown",
   "metadata": {},
   "source": [
    "# Ethics & Privacy"
   ]
  },
  {
   "cell_type": "markdown",
   "metadata": {},
   "source": [
    "*Fill in your ethics & privacy discussion here*"
   ]
  },
  {
   "cell_type": "markdown",
   "metadata": {},
   "source": [
    "# Conclusion & Discussion"
   ]
  },
  {
   "cell_type": "markdown",
   "metadata": {},
   "source": [
    "*Fill in your discussion information here*"
   ]
  }
 ],
 "metadata": {
  "kernelspec": {
   "display_name": "Python 3",
   "language": "python",
   "name": "python3"
  },
  "language_info": {
   "codemirror_mode": {
    "name": "ipython",
    "version": 3
   },
   "file_extension": ".py",
   "mimetype": "text/x-python",
   "name": "python",
   "nbconvert_exporter": "python",
   "pygments_lexer": "ipython3",
   "version": "3.6.5"
  }
 },
 "nbformat": 4,
 "nbformat_minor": 2
}
