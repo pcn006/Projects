{
 "cells": [
  {
   "cell_type": "markdown",
   "metadata": {},
   "source": [
    "## Load data and trim"
   ]
  },
  {
   "cell_type": "code",
   "execution_count": 73,
   "metadata": {},
   "outputs": [],
   "source": [
    "import pandas as pd\n",
    "\n",
    "income = pd.read_csv('household_income/Summary_2017_1984.csv')\n",
    "obesity = pd.read_csv('obesity_rate.csv')\n",
    "\n",
    "income = income.drop(['1984','1985','1986','1987','1988','1989'], axis = 1)\n",
    "income = income.drop(['2001','2002','1999','1998','1997','1996'], axis = 1)\n",
    "income = income.drop(['1994','1993','1992','1991','2013.1'], axis = 1)\n",
    "\n",
    "obesity.rename(columns = {'States': 'State'}, inplace = True)\n"
   ]
  },
  {
   "cell_type": "markdown",
   "metadata": {},
   "source": [
    "## Merge data"
   ]
  },
  {
   "cell_type": "markdown",
   "metadata": {},
   "source": [
    "##### 1900 - 2017"
   ]
  },
  {
   "cell_type": "code",
   "execution_count": 74,
   "metadata": {},
   "outputs": [],
   "source": [
    "# 2017\n",
    "ic2017 = income[['State', '2017']]\n",
    "ob2017 = obesity[['State', '2017']]\n",
    "\n",
    "temp = pd.merge(ic2017, ob2017, on = 'State')\n",
    "temp.rename(columns = {'2017_x': 'income', '2017_y': 'obesity'}, inplace = True)\n",
    "df = temp\n",
    "\n",
    "# 2016\n",
    "ic2016 = income[['State', '2016']]\n",
    "ob2016 = obesity[['State', '2016']]\n",
    "\n",
    "temp = pd.merge(ic2016, ob2016, on = 'State')\n",
    "temp.rename(columns = {'2016_x': 'income', '2016_y': 'obesity'}, inplace = True)\n",
    "df = df.append(temp, ignore_index = True)\n",
    "\n",
    "# 2015\n",
    "ic2015 = income[['State', '2015']]\n",
    "ob2015 = obesity[['State', '2015']]\n",
    "\n",
    "temp = pd.merge(ic2015, ob2015, on = 'State')\n",
    "temp.rename(columns = {'2015_x': 'income', '2015_y': 'obesity'}, inplace = True)\n",
    "df = df.append(temp, ignore_index = True)\n",
    "\n",
    "# 2014\n",
    "ic2014 = income[['State', '2014']]\n",
    "ob2014 = obesity[['State', '2014']]\n",
    "\n",
    "temp = pd.merge(ic2014, ob2014, on = 'State')\n",
    "temp.rename(columns = {'2014_x': 'income', '2014_y': 'obesity'}, inplace = True)\n",
    "df = df.append(temp, ignore_index = True)\n",
    "\n",
    "# 2013\n",
    "ic2013 = income[['State', '2013']]\n",
    "ob2013 = obesity[['State', '2013']]\n",
    "\n",
    "temp = pd.merge(ic2013, ob2013, on = 'State')\n",
    "temp.rename(columns = {'2013_x': 'income', '2013_y': 'obesity'}, inplace = True)\n",
    "df = df.append(temp, ignore_index = True)\n",
    "\n",
    "# 2012\n",
    "ic2012 = income[['State', '2012']]\n",
    "ob2012 = obesity[['State', '2012']]\n",
    "\n",
    "temp = pd.merge(ic2012, ob2012, on = 'State')\n",
    "temp.rename(columns = {'2012_x': 'income', '2012_y': 'obesity'}, inplace = True)\n",
    "df = df.append(temp, ignore_index = True)\n",
    "\n",
    "# 2011\n",
    "ic2011 = income[['State', '2011']]\n",
    "ob2011 = obesity[['State', '2011']]\n",
    "\n",
    "temp = pd.merge(ic2011, ob2011, on = 'State')\n",
    "temp.rename(columns = {'2011_x': 'income', '2011_y': 'obesity'}, inplace = True)\n",
    "df = df.append(temp, ignore_index = True)\n",
    "\n",
    "# 2010\n",
    "ic2010 = income[['State', '2010']]\n",
    "ob2010 = obesity[['State', '2010']]\n",
    "\n",
    "temp = pd.merge(ic2010, ob2010, on = 'State')\n",
    "temp.rename(columns = {'2010_x': 'income', '2010_y': 'obesity'}, inplace = True)\n",
    "df = df.append(temp, ignore_index = True)\n",
    "\n",
    "# 2009\n",
    "ic2009 = income[['State', '2009']]\n",
    "ob2009 = obesity[['State', '2009']]\n",
    "\n",
    "temp = pd.merge(ic2009, ob2009, on = 'State')\n",
    "temp.rename(columns = {'2009_x': 'income', '2009_y': 'obesity'}, inplace = True)\n",
    "df = df.append(temp, ignore_index = True)\n",
    "\n",
    "# 2008\n",
    "ic2008 = income[['State', '2008']]\n",
    "ob2008 = obesity[['State', '2008']]\n",
    "\n",
    "temp = pd.merge(ic2008, ob2008, on = 'State')\n",
    "temp.rename(columns = {'2008_x': 'income', '2008_y': 'obesity'}, inplace = True)\n",
    "df = df.append(temp, ignore_index = True)\n",
    "\n",
    "# 2007\n",
    "ic2007 = income[['State', '2007']]\n",
    "ob2007 = obesity[['State', '2007']]\n",
    "\n",
    "temp = pd.merge(ic2007, ob2007, on = 'State')\n",
    "temp.rename(columns = {'2007_x': 'income', '2007_y': 'obesity'}, inplace = True)\n",
    "df = df.append(temp, ignore_index = True)\n",
    "\n",
    "# 2006\n",
    "ic2006 = income[['State', '2006']]\n",
    "ob2006 = obesity[['State', '2006']]\n",
    "\n",
    "temp = pd.merge(ic2006, ob2006, on = 'State')\n",
    "temp.rename(columns = {'2006_x': 'income', '2006_y': 'obesity'}, inplace = True)\n",
    "df = df.append(temp, ignore_index = True)\n",
    "\n",
    "# 2005\n",
    "ic2005 = income[['State', '2005']]\n",
    "ob2005 = obesity[['State', '2005']]\n",
    "\n",
    "temp = pd.merge(ic2005, ob2005, on = 'State')\n",
    "temp.rename(columns = {'2005_x': 'income', '2005_y': 'obesity'}, inplace = True)\n",
    "df = df.append(temp, ignore_index = True)\n",
    "\n",
    "# 2004\n",
    "ic2004 = income[['State', '2004']]\n",
    "ob2004 = obesity[['State', '2004']]\n",
    "\n",
    "temp = pd.merge(ic2004, ob2004, on = 'State')\n",
    "temp.rename(columns = {'2004_x': 'income', '2004_y': 'obesity'}, inplace = True)\n",
    "df = df.append(temp, ignore_index = True)\n",
    "\n",
    "# 2003\n",
    "ic2003 = income[['State', '2003']]\n",
    "ob2003 = obesity[['State', '2003']]\n",
    "\n",
    "temp = pd.merge(ic2003, ob2003, on = 'State')\n",
    "temp.rename(columns = {'2003_x': 'income', '2003_y': 'obesity'}, inplace = True)\n",
    "df = df.append(temp, ignore_index = True)\n",
    "\n",
    "# 2000\n",
    "ic2000 = income[['State', '2000']]\n",
    "ob2000 = obesity[['State', '2000']]\n",
    "\n",
    "temp = pd.merge(ic2000, ob2000, on = 'State')\n",
    "temp.rename(columns = {'2000_x': 'income', '2000_y': 'obesity'}, inplace = True)\n",
    "df = df.append(temp, ignore_index = True)\n",
    "\n",
    "# 1995\n",
    "ic1995 = income[['State', '1995']]\n",
    "ob1995 = obesity[['State', '1995']]\n",
    "\n",
    "temp = pd.merge(ic1995, ob1995, on = 'State')\n",
    "temp.rename(columns = {'1995_x': 'income', '1995_y': 'obesity'}, inplace = True)\n",
    "df = df.append(temp, ignore_index = True)\n",
    "\n",
    "# 1990\n",
    "ic1990 = income[['State', '1990']]\n",
    "ob1990 = obesity[['State', '1990']]\n",
    "\n",
    "temp = pd.merge(ic1990, ob1990, on = 'State')\n",
    "temp.rename(columns = {'1990_x': 'income', '1990_y': 'obesity'}, inplace = True)\n",
    "df = df.append(temp, ignore_index = True)\n"
   ]
  },
  {
   "cell_type": "markdown",
   "metadata": {},
   "source": [
    "## Check if there are empty rows"
   ]
  },
  {
   "cell_type": "markdown",
   "metadata": {},
   "source": [
    "- df.isnull().values.any()\n",
    "\n",
    "needs to ouput \"False\" in order to comfirm that\n",
    "there are no null values in the dataframe"
   ]
  },
  {
   "cell_type": "code",
   "execution_count": 75,
   "metadata": {},
   "outputs": [
    {
     "data": {
      "text/plain": [
       "True"
      ]
     },
     "execution_count": 75,
     "metadata": {},
     "output_type": "execute_result"
    }
   ],
   "source": [
    "df.isnull().values.any()"
   ]
  },
  {
   "cell_type": "code",
   "execution_count": 76,
   "metadata": {},
   "outputs": [
    {
     "data": {
      "text/plain": [
       "(882, 3)"
      ]
     },
     "execution_count": 76,
     "metadata": {},
     "output_type": "execute_result"
    }
   ],
   "source": [
    "df.shape"
   ]
  },
  {
   "cell_type": "code",
   "execution_count": 77,
   "metadata": {},
   "outputs": [
    {
     "data": {
      "text/plain": [
       "(876, 3)"
      ]
     },
     "execution_count": 77,
     "metadata": {},
     "output_type": "execute_result"
    }
   ],
   "source": [
    "df = df.dropna()\n",
    "df.shape"
   ]
  },
  {
   "cell_type": "code",
   "execution_count": 78,
   "metadata": {},
   "outputs": [
    {
     "data": {
      "text/plain": [
       "State       object\n",
       "income     float64\n",
       "obesity    float64\n",
       "dtype: object"
      ]
     },
     "execution_count": 78,
     "metadata": {},
     "output_type": "execute_result"
    }
   ],
   "source": [
    "df.income = [x.replace(',','') for x in df.income]\n",
    "df.income = df.income.astype(float)"
   ]
  },
  {
   "cell_type": "markdown",
   "metadata": {},
   "source": [
    "## Analyses"
   ]
  },
  {
   "cell_type": "code",
   "execution_count": 79,
   "metadata": {},
   "outputs": [
    {
     "data": {
      "text/html": [
       "<div>\n",
       "<style scoped>\n",
       "    .dataframe tbody tr th:only-of-type {\n",
       "        vertical-align: middle;\n",
       "    }\n",
       "\n",
       "    .dataframe tbody tr th {\n",
       "        vertical-align: top;\n",
       "    }\n",
       "\n",
       "    .dataframe thead th {\n",
       "        text-align: right;\n",
       "    }\n",
       "</style>\n",
       "<table border=\"1\" class=\"dataframe\">\n",
       "  <thead>\n",
       "    <tr style=\"text-align: right;\">\n",
       "      <th></th>\n",
       "      <th>income</th>\n",
       "      <th>obesity</th>\n",
       "    </tr>\n",
       "  </thead>\n",
       "  <tbody>\n",
       "    <tr>\n",
       "      <th>count</th>\n",
       "      <td>876.000000</td>\n",
       "      <td>876.000000</td>\n",
       "    </tr>\n",
       "    <tr>\n",
       "      <th>mean</th>\n",
       "      <td>48962.697489</td>\n",
       "      <td>0.250919</td>\n",
       "    </tr>\n",
       "    <tr>\n",
       "      <th>std</th>\n",
       "      <td>10907.084226</td>\n",
       "      <td>0.060100</td>\n",
       "    </tr>\n",
       "    <tr>\n",
       "      <th>min</th>\n",
       "      <td>20178.000000</td>\n",
       "      <td>0.069000</td>\n",
       "    </tr>\n",
       "    <tr>\n",
       "      <th>25%</th>\n",
       "      <td>41881.000000</td>\n",
       "      <td>0.218000</td>\n",
       "    </tr>\n",
       "    <tr>\n",
       "      <th>50%</th>\n",
       "      <td>48453.000000</td>\n",
       "      <td>0.256000</td>\n",
       "    </tr>\n",
       "    <tr>\n",
       "      <th>75%</th>\n",
       "      <td>56218.750000</td>\n",
       "      <td>0.294000</td>\n",
       "    </tr>\n",
       "    <tr>\n",
       "      <th>max</th>\n",
       "      <td>81084.000000</td>\n",
       "      <td>0.381000</td>\n",
       "    </tr>\n",
       "  </tbody>\n",
       "</table>\n",
       "</div>"
      ],
      "text/plain": [
       "             income     obesity\n",
       "count    876.000000  876.000000\n",
       "mean   48962.697489    0.250919\n",
       "std    10907.084226    0.060100\n",
       "min    20178.000000    0.069000\n",
       "25%    41881.000000    0.218000\n",
       "50%    48453.000000    0.256000\n",
       "75%    56218.750000    0.294000\n",
       "max    81084.000000    0.381000"
      ]
     },
     "execution_count": 79,
     "metadata": {},
     "output_type": "execute_result"
    }
   ],
   "source": [
    "# describe\n",
    "desc = df.describe()\n",
    "desc"
   ]
  },
  {
   "cell_type": "code",
   "execution_count": 80,
   "metadata": {},
   "outputs": [
    {
     "data": {
      "text/html": [
       "<div>\n",
       "<style scoped>\n",
       "    .dataframe tbody tr th:only-of-type {\n",
       "        vertical-align: middle;\n",
       "    }\n",
       "\n",
       "    .dataframe tbody tr th {\n",
       "        vertical-align: top;\n",
       "    }\n",
       "\n",
       "    .dataframe thead th {\n",
       "        text-align: right;\n",
       "    }\n",
       "</style>\n",
       "<table border=\"1\" class=\"dataframe\">\n",
       "  <thead>\n",
       "    <tr style=\"text-align: right;\">\n",
       "      <th></th>\n",
       "      <th>income</th>\n",
       "      <th>obesity</th>\n",
       "    </tr>\n",
       "  </thead>\n",
       "  <tbody>\n",
       "    <tr>\n",
       "      <th>income</th>\n",
       "      <td>1.000000</td>\n",
       "      <td>0.378533</td>\n",
       "    </tr>\n",
       "    <tr>\n",
       "      <th>obesity</th>\n",
       "      <td>0.378533</td>\n",
       "      <td>1.000000</td>\n",
       "    </tr>\n",
       "  </tbody>\n",
       "</table>\n",
       "</div>"
      ],
      "text/plain": [
       "           income   obesity\n",
       "income   1.000000  0.378533\n",
       "obesity  0.378533  1.000000"
      ]
     },
     "execution_count": 80,
     "metadata": {},
     "output_type": "execute_result"
    }
   ],
   "source": [
    "corrs = df.corr()\n",
    "corrs"
   ]
  },
  {
   "cell_type": "markdown",
   "metadata": {},
   "source": [
    "## Data visualization"
   ]
  },
  {
   "cell_type": "code",
   "execution_count": 84,
   "metadata": {},
   "outputs": [
    {
     "data": {
      "image/png": "[encoded data removed]",
      "text/plain": [
       "<Figure size 432x288 with 1 Axes>"
      ]
     },
     "metadata": {
      "needs_background": "light"
     },
     "output_type": "display_data"
    }
   ],
   "source": [
    "%matplotlib inline\n",
    "import matplotlib.pyplot as plt\n",
    "\n",
    "# income\n",
    "plt.hist(df['income'], bins = 610)\n",
    "plt.xlabel('($) income')\n",
    "ic = plt.gcf()\n"
   ]
  },
  {
   "cell_type": "code",
   "execution_count": 85,
   "metadata": {},
   "outputs": [
    {
     "data": {
      "image/png": "[encoded data removed]",
      "text/plain": [
       "<Figure size 432x288 with 1 Axes>"
      ]
     },
     "metadata": {
      "needs_background": "light"
     },
     "output_type": "display_data"
    }
   ],
   "source": [
    "# obesity\n",
    "plt.hist(df['obesity'], bins = 50)\n",
    "plt.xlabel('obesity rate')\n",
    "ob = plt.gcf()\n"
   ]
  },
  {
   "cell_type": "code",
   "execution_count": 87,
   "metadata": {},
   "outputs": [
    {
     "data": {
      "image/png": "[encoded data removed]",
      "text/plain": [
       "<Figure size 432x288 with 1 Axes>"
      ]
     },
     "metadata": {
      "needs_background": "light"
     },
     "output_type": "display_data"
    }
   ],
   "source": [
    "import numpy as np\n",
    "\n",
    "a, b = np.polyfit(df['income'], df['obesity'], 1)\n",
    "pred = np.add(np.multiply(np.arange(20000, 80000, 100), a), b)\n",
    "\n",
    "plt.scatter(df['income'], df['obesity'], s = 25)\n",
    "plt.plot(np.arange(20000, 80000, 100), pred, '-r', linewidth = 3)\n",
    "plt.xlabel('income')\n",
    "plt.ylabel('obesity')\n",
    "\n",
    "result = plt.gcf()"
   ]
  },
  {
   "cell_type": "code",
   "execution_count": 88,
   "metadata": {},
   "outputs": [
    {
     "name": "stdout",
     "output_type": "stream",
     "text": [
      "[[2.08578786e-06]]\n"
     ]
    }
   ],
   "source": [
    "from sklearn.linear_model import LinearRegression\n",
    "\n",
    "x = pd.DataFrame(df['income'])\n",
    "y = pd.DataFrame(df['obesity'])\n",
    "\n",
    "model = LinearRegression()\n",
    "model.fit(x, y)\n",
    "\n",
    "print(model.coef_)"
   ]
  },
  {
   "cell_type": "code",
   "execution_count": null,
   "metadata": {},
   "outputs": [],
   "source": []
  }
 ],
 "metadata": {
  "kernelspec": {
   "display_name": "Python 3",
   "language": "python",
   "name": "python3"
  },
  "language_info": {
   "codemirror_mode": {
    "name": "ipython",
    "version": 3
   },
   "file_extension": ".py",
   "mimetype": "text/x-python",
   "name": "python",
   "nbconvert_exporter": "python",
   "pygments_lexer": "ipython3",
   "version": "3.7.1"
  }
 },
 "nbformat": 4,
 "nbformat_minor": 2
}
